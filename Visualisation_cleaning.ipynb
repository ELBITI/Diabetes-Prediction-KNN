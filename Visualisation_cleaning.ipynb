{
  "nbformat": 4,
  "nbformat_minor": 0,
  "metadata": {
    "colab": {
      "provenance": [],
      "name": "KNN for classificatio.ipynb",
      "authorship_tag": "ABX9TyPxx+LPdEWyOoKVGGtv7G23",
      "include_colab_link": true
    },
    "kernelspec": {
      "name": "python3",
      "display_name": "Python 3"
    },
    "language_info": {
      "name": "python"
    }
  },
  "cells": [
    {
      "cell_type": "markdown",
      "metadata": {
        "id": "view-in-github",
        "colab_type": "text"
      },
      "source": [
        "<a href=\"https://colab.research.google.com/github/ELBITI/Diabetes-Prediction-KNN/blob/main/Visualisation_cleaning.ipynb\" target=\"_parent\"><img src=\"https://colab.research.google.com/assets/colab-badge.svg\" alt=\"Open In Colab\"/></a>"
      ]
    },
    {
      "cell_type": "code",
      "execution_count": 24,
      "metadata": {
        "id": "nyWjO3FRtg1M",
        "colab": {
          "base_uri": "https://localhost:8080/"
        },
        "outputId": "ebc289c1-b54b-4575-dcc2-29bd5204178f"
      },
      "outputs": [
        {
          "output_type": "stream",
          "name": "stdout",
          "text": [
            "<class 'pandas.core.frame.DataFrame'>\n",
            "RangeIndex: 767 entries, 0 to 766\n",
            "Data columns (total 7 columns):\n",
            " #   Column                    Non-Null Count  Dtype  \n",
            "---  ------                    --------------  -----  \n",
            " 0   Glucose                   767 non-null    int64  \n",
            " 1   BloodPressure             767 non-null    int64  \n",
            " 2   Insulin                   767 non-null    int64  \n",
            " 3   BMI                       767 non-null    float64\n",
            " 4   DiabetesPedigreeFunction  767 non-null    float64\n",
            " 5   Age                       767 non-null    int64  \n",
            " 6   Outcome                   767 non-null    int64  \n",
            "dtypes: float64(2), int64(5)\n",
            "memory usage: 42.1 KB\n",
            "1. la dimension :  (767, 7)\n",
            "\n",
            "2. Resumer de donner:  None\n",
            "\n",
            "3. Caracteristique descriptive:            Glucose  BloodPressure     Insulin         BMI  \\\n",
            "count  767.000000     767.000000  767.000000  767.000000   \n",
            "mean   120.930900      69.104302   79.903520   31.994654   \n",
            "std     31.977581      19.368410  115.283105    7.889095   \n",
            "min      0.000000       0.000000    0.000000    0.000000   \n",
            "25%     99.000000      62.000000    0.000000   27.300000   \n",
            "50%    117.000000      72.000000   32.000000   32.000000   \n",
            "75%    140.500000      80.000000  127.500000   36.600000   \n",
            "max    199.000000     122.000000  846.000000   67.100000   \n",
            "\n",
            "       DiabetesPedigreeFunction         Age     Outcome  \n",
            "count                767.000000  767.000000  767.000000  \n",
            "mean                   0.472081   33.254237    0.349413  \n",
            "std                    0.331496   11.762079    0.477096  \n",
            "min                    0.078000   21.000000    0.000000  \n",
            "25%                    0.243500   24.000000    0.000000  \n",
            "50%                    0.374000   29.000000    0.000000  \n",
            "75%                    0.626500   41.000000    1.000000  \n",
            "max                    2.420000   81.000000    1.000000  \n",
            "\n",
            "4. Occurence par classe:  Outcome\n",
            "0    499\n",
            "1    268\n",
            "Name: count, dtype: int64\n"
          ]
        }
      ],
      "source": [
        "import pandas as pd\n",
        "\n",
        "\n",
        "df = pd.read_csv('diabetes.csv')\n",
        "\n",
        "dimension  = df.shape\n",
        "\n",
        "df.dropna()\n",
        "df.drop_duplicates()\n",
        "\n",
        "resumer = df.info()\n",
        "\n",
        "caracteristique = df.describe()\n",
        "\n",
        "occu = df['Outcome'].value_counts()\n",
        "\n",
        "\n",
        "print('1. la dimension : ', dimension )\n",
        "\n",
        "print('\\n2. Resumer de donner: ', resumer )\n",
        "\n",
        "print('\\n3. Caracteristique descriptive: ', caracteristique )\n",
        "print('\\n4. Occurence par classe: ', occu )\n",
        "\n",
        "\n",
        "\n",
        "\n"
      ]
    },
    {
      "cell_type": "code",
      "source": [
        "%cd Data_Visualisation_Cleaning.ipynb  # Remplacez `repository_name` par le nom de votre dépôt.\n"
      ],
      "metadata": {
        "colab": {
          "base_uri": "https://localhost:8080/"
        },
        "id": "U4KHOIyvzOSW",
        "outputId": "36e7bc3d-ab21-4b43-e354-a09ffa018f2c"
      },
      "execution_count": 7,
      "outputs": [
        {
          "output_type": "stream",
          "name": "stdout",
          "text": [
            "[Errno 2] No such file or directory: 'Data_Visualisation_Cleaning.ipynb # Remplacez `repository_name` par le nom de votre dépôt.'\n",
            "/content\n"
          ]
        }
      ]
    }
  ]
}